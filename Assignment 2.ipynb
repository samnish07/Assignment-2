{
 "cells": [
  {
   "cell_type": "markdown",
   "id": "4809bf54",
   "metadata": {},
   "source": [
    "# Set 1 - Q1"
   ]
  },
  {
   "cell_type": "code",
   "execution_count": 33,
   "id": "fbcc3d21",
   "metadata": {},
   "outputs": [],
   "source": [
    "import numpy as np\n",
    "import pandas as pd\n",
    "import matplotlib.pyplot as plt\n",
    "import seaborn as sns\n",
    "%matplotlib inline\n",
    "import warnings\n",
    "from scipy import stats"
   ]
  },
  {
   "cell_type": "code",
   "execution_count": 6,
   "id": "5adf28fa",
   "metadata": {},
   "outputs": [],
   "source": [
    "x = pd.Series([24.23,25.53,25.41,24.14,29.62,28.25,25.81,24.39,\n",
    "               40.26,32.95,91.36,25.99,39.42,26.71,35.00])"
   ]
  },
  {
   "cell_type": "code",
   "execution_count": 54,
   "id": "affde3b6",
   "metadata": {},
   "outputs": [
    {
     "data": {
      "image/png": "[encoded data removed]",
      "text/plain": [
       "<Figure size 432x288 with 1 Axes>"
      ]
     },
     "metadata": {
      "needs_background": "light"
     },
     "output_type": "display_data"
    }
   ],
   "source": [
    "sns.boxplot(x);"
   ]
  },
  {
   "cell_type": "markdown",
   "id": "872dc276",
   "metadata": {},
   "source": [
    "From the plot, we can deduce 91.36 is the outlier. "
   ]
  },
  {
   "cell_type": "code",
   "execution_count": 31,
   "id": "92d71b92",
   "metadata": {},
   "outputs": [
    {
     "data": {
      "text/plain": [
       "mean     33.271333\n",
       "std      16.945401\n",
       "var     287.146612\n",
       "dtype: float64"
      ]
     },
     "execution_count": 31,
     "metadata": {},
     "output_type": "execute_result"
    }
   ],
   "source": [
    "x.agg(['mean','std','var'])"
   ]
  },
  {
   "cell_type": "markdown",
   "id": "d6d929b9",
   "metadata": {},
   "source": [
    "# Set 2 - Q1"
   ]
  },
  {
   "cell_type": "code",
   "execution_count": 34,
   "id": "b5d75268",
   "metadata": {},
   "outputs": [
    {
     "data": {
      "text/plain": [
       "0.26598552904870054"
      ]
     },
     "execution_count": 34,
     "metadata": {},
     "output_type": "execute_result"
    }
   ],
   "source": [
    "# p value \n",
    "1-stats.norm.cdf(abs(0.625))"
   ]
  },
  {
   "cell_type": "code",
   "execution_count": 36,
   "id": "396977d8",
   "metadata": {},
   "outputs": [
    {
     "data": {
      "text/plain": [
       "84.1344746068543"
      ]
     },
     "execution_count": 36,
     "metadata": {},
     "output_type": "execute_result"
    }
   ],
   "source": [
    "stats.norm.cdf(abs(1.0))*100"
   ]
  },
  {
   "cell_type": "markdown",
   "id": "1af9dcac",
   "metadata": {},
   "source": [
    "# Q4"
   ]
  },
  {
   "cell_type": "code",
   "execution_count": 37,
   "id": "b2cc98b9",
   "metadata": {},
   "outputs": [
    {
     "data": {
      "text/plain": [
       "-2.575829303548901"
      ]
     },
     "execution_count": 37,
     "metadata": {},
     "output_type": "execute_result"
    }
   ],
   "source": [
    "stats.norm.ppf(0.005)"
   ]
  },
  {
   "cell_type": "code",
   "execution_count": 38,
   "id": "96831948",
   "metadata": {},
   "outputs": [
    {
     "data": {
      "text/plain": [
       "2.5758293035489004"
      ]
     },
     "execution_count": 38,
     "metadata": {},
     "output_type": "execute_result"
    }
   ],
   "source": [
    "stats.norm.ppf(0.995)"
   ]
  },
  {
   "cell_type": "markdown",
   "id": "ebab1617",
   "metadata": {},
   "source": [
    "# Q5 - A"
   ]
  },
  {
   "cell_type": "code",
   "execution_count": 116,
   "id": "2c6829ad",
   "metadata": {},
   "outputs": [
    {
     "data": {
      "text/plain": [
       "(99.00810347848784, 980.9918965215122)"
      ]
     },
     "execution_count": 116,
     "metadata": {},
     "output_type": "execute_result"
    }
   ],
   "source": [
    "stats.norm.interval(0.95,540,225)"
   ]
  },
  {
   "cell_type": "markdown",
   "id": "c92a8e45",
   "metadata": {},
   "source": [
    "With 95% probability Rupee ranges from 99 to 981 crore for the annual profit of the comapny."
   ]
  },
  {
   "cell_type": "markdown",
   "id": "e140f5c9",
   "metadata": {},
   "source": [
    "# Q5 - B"
   ]
  },
  {
   "cell_type": "code",
   "execution_count": 117,
   "id": "f7211089",
   "metadata": {},
   "outputs": [
    {
     "name": "stdout",
     "output_type": "stream",
     "text": [
      "The 5th percentile of profit is 170.0 crore\n"
     ]
    }
   ],
   "source": [
    "# To find 5th percentile of profit\n",
    "Z_value = stats.norm.ppf(0.05)\n",
    "# X=μ + Zσ\n",
    "X= np.round(540+(Z_value)*(225))\n",
    "print('The 5th percentile of profit is {X} crore'.format(X=X))"
   ]
  },
  {
   "cell_type": "markdown",
   "id": "71586b17",
   "metadata": {},
   "source": [
    "# Q5 - C"
   ]
  },
  {
   "cell_type": "code",
   "execution_count": 53,
   "id": "b36f4306",
   "metadata": {},
   "outputs": [
    {
     "name": "stdout",
     "output_type": "stream",
     "text": [
      "The Probability of Division #1 making a loss is 4.78 %\n",
      "The Probability of Division #2 making a loss is 4.01 %\n",
      "The Division 1 has a larger Probability of making a loss\n"
     ]
    }
   ],
   "source": [
    "# The probability of Division 1 making a loss\n",
    "print('The Probability of Division #1 making a loss is',np.round((stats.norm.cdf(0,5,3))*100,2),'%')\n",
    "\n",
    "# The probability of Division 2 making a loss\n",
    "print('The Probability of Division #2 making a loss is',np.round((stats.norm.cdf(0,7,4))*100,2),'%')\n",
    "\n",
    "Division_1 = (stats.norm.cdf(0,5,3))*100\n",
    "Division_2 = (stats.norm.cdf(0,7,4))*100\n",
    "\n",
    "if Division_1>Division_2:\n",
    "    print('The Division 1 has a larger Probability of making a loss')\n",
    "else:\n",
    "          print('The Division 2 has a larger Porbability of making a loss')"
   ]
  },
  {
   "cell_type": "markdown",
   "id": "1a621dfc",
   "metadata": {},
   "source": [
    "# Q2 - A"
   ]
  },
  {
   "cell_type": "code",
   "execution_count": 70,
   "id": "e7c82531",
   "metadata": {},
   "outputs": [
    {
     "name": "stdout",
     "output_type": "stream",
     "text": [
      "Number of employees above age 44 at the processing centre = 63.0\n",
      "Number of employees between the age of 38 and 44 at the processing centre = 137.0\n",
      "No.of employees between age 38 and 44 are more than above age 44. So the condition is FALSE\n"
     ]
    }
   ],
   "source": [
    "# Number of employess out of 400 above the age of 44\n",
    "p_value1 = 400*(1-stats.norm.cdf(44,loc=38,scale=6))\n",
    "print('Number of employees above age 44 at the processing centre =',np.round(p_value1))\n",
    "# Number of employees out of 400 between the age of 38 and 44\n",
    "p_value2 = 400*(stats.norm.cdf(44,38,6)-stats.norm.cdf(38,38,6))\n",
    "print('Number of employees between the age of 38 and 44 at the processing centre =',np.round(p_value2))\n",
    "if p_value2 > p_value1:\n",
    "    print('No.of employees between age 38 and 44 are more than above age 44. So the condition is FALSE')\n",
    "else:\n",
    "    print('TRUE')"
   ]
  },
  {
   "cell_type": "markdown",
   "id": "a1b190b9",
   "metadata": {},
   "source": [
    "# Q2 - B"
   ]
  },
  {
   "cell_type": "code",
   "execution_count": 75,
   "id": "ad4fd5b1",
   "metadata": {},
   "outputs": [
    {
     "name": "stdout",
     "output_type": "stream",
     "text": [
      "A training program for employees < age30 would be expected to attract 36.0 employees\n",
      "TRUE\n"
     ]
    }
   ],
   "source": [
    "# Number of employees out of 400 under the age 30\n",
    "p_value = np.round(400*stats.norm.cdf(30,38,6))\n",
    "print('A training program for employees < age30 would be expected to attract {p_value} employees'.format(p_value=p_value))\n",
    "if p_value >= 36:\n",
    "    print('TRUE')\n",
    "else:\n",
    "    print('FALSE')"
   ]
  },
  {
   "cell_type": "markdown",
   "id": "e8f9d1c0",
   "metadata": {},
   "source": [
    "# Set 3 - Q8"
   ]
  },
  {
   "cell_type": "code",
   "execution_count": 91,
   "id": "6f5e368e",
   "metadata": {},
   "outputs": [
    {
     "name": "stdout",
     "output_type": "stream",
     "text": [
      "z = -1.9599639845400545\n",
      "Size of sample = 600.2279407334573\n"
     ]
    }
   ],
   "source": [
    "# for 95% confidence level\n",
    "z=stats.norm.ppf(0.025)\n",
    "print('z =',z)\n",
    "# sample size, n=(z/ME)^2 p(1-p) where p=0.5 and Margin of error,ME=0.04\n",
    "n=((z*z)/(0.04*0.04)) * (0.5*(1-0.5))\n",
    "print('Size of sample =',n)"
   ]
  },
  {
   "cell_type": "markdown",
   "id": "405f6ff4",
   "metadata": {},
   "source": [
    "# Q9"
   ]
  },
  {
   "cell_type": "code",
   "execution_count": 92,
   "id": "18fdd4dd",
   "metadata": {},
   "outputs": [
    {
     "name": "stdout",
     "output_type": "stream",
     "text": [
      "z = -2.3263478740408408\n",
      "Size of sample = 845.6085048522405\n"
     ]
    }
   ],
   "source": [
    "# for 98% confidence level\n",
    "z=stats.norm.ppf(0.01)\n",
    "print('z =',z)\n",
    "# sample size, n=(z/ME)^2 p(1-p) where p=0.5 and Margin of error,ME=0.04\n",
    "n=((z*z)/(0.04*0.04)) * (0.5*(1-0.5))\n",
    "print('Size of sample =',n)"
   ]
  },
  {
   "cell_type": "markdown",
   "id": "8cfa61e2",
   "metadata": {},
   "source": [
    "# Set 4 - Q3"
   ]
  },
  {
   "cell_type": "code",
   "execution_count": 105,
   "id": "e5362c47",
   "metadata": {},
   "outputs": [
    {
     "data": {
      "text/plain": [
       "21.129954733371072"
      ]
     },
     "execution_count": 105,
     "metadata": {},
     "output_type": "execute_result"
    }
   ],
   "source": [
    "# probability that auditors will initiate investigation i.e 1-P(45<x<55)\n",
    "p=(1-(stats.norm.cdf(55,loc=50,scale=40/(100**0.5))-stats.norm.cdf(45,loc=50,scale=40/(100**0.5))))*100\n",
    "p"
   ]
  },
  {
   "cell_type": "markdown",
   "id": "bce36662",
   "metadata": {},
   "source": [
    "# Q4"
   ]
  },
  {
   "cell_type": "code",
   "execution_count": 115,
   "id": "858720d5",
   "metadata": {},
   "outputs": [
    {
     "data": {
      "text/plain": [
       "246.0"
      ]
     },
     "execution_count": 115,
     "metadata": {},
     "output_type": "execute_result"
    }
   ],
   "source": [
    "z=stats.norm.ppf(0.025)\n",
    "n=(z*40/5)**2\n",
    "np.round(n)"
   ]
  },
  {
   "cell_type": "code",
   "execution_count": null,
   "id": "f4eb24ec",
   "metadata": {},
   "outputs": [],
   "source": []
  }
 ],
 "metadata": {
  "kernelspec": {
   "display_name": "Python 3 (ipykernel)",
   "language": "python",
   "name": "python3"
  },
  "language_info": {
   "codemirror_mode": {
    "name": "ipython",
    "version": 3
   },
   "file_extension": ".py",
   "mimetype": "text/x-python",
   "name": "python",
   "nbconvert_exporter": "python",
   "pygments_lexer": "ipython3",
   "version": "3.9.12"
  }
 },
 "nbformat": 4,
 "nbformat_minor": 5
}
